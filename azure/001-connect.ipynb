{
 "cells": [
  {
   "cell_type": "markdown",
   "metadata": {},
   "source": [
    "# Connecting to Azure-ML"
   ]
  },
  {
   "cell_type": "code",
   "execution_count": 1,
   "metadata": {},
   "outputs": [],
   "source": [
    "from azureml.core import Workspace\n",
    "import json"
   ]
  },
  {
   "cell_type": "code",
   "execution_count": 2,
   "metadata": {},
   "outputs": [],
   "source": [
    "with open('config.json') as file:\n",
    "    config = json.load(file)\n",
    "\n",
    "id = config['subscription_id']"
   ]
  },
  {
   "cell_type": "code",
   "execution_count": 3,
   "metadata": {},
   "outputs": [
    {
     "name": "stdout",
     "output_type": "stream",
     "text": [
      "Performing interactive authentication. Please follow the instructions on the terminal.\n"
     ]
    },
    {
     "name": "stderr",
     "output_type": "stream",
     "text": [
      "WARNING - Note, we have launched a browser for you to login. For old experience with device code, use \"az login --use-device-code\"\n",
      "WARNING - You have logged in. Now let us find all the subscriptions to which you have access...\n"
     ]
    },
    {
     "name": "stdout",
     "output_type": "stream",
     "text": [
      "Interactive authentication successfully completed.\n"
     ]
    }
   ],
   "source": [
    "ws = Workspace.from_config()"
   ]
  },
  {
   "cell_type": "code",
   "execution_count": 6,
   "metadata": {},
   "outputs": [
    {
     "name": "stdout",
     "output_type": "stream",
     "text": [
      "pc1 : ComputeInstance\n"
     ]
    }
   ],
   "source": [
    "for pc_name in ws.compute_targets:\n",
    "    pc = ws.compute_targets[pc_name]\n",
    "    print(pc.name, ':', pc.type)"
   ]
  },
  {
   "cell_type": "code",
   "execution_count": 7,
   "metadata": {},
   "outputs": [
    {
     "data": {
      "text/plain": [
       "{'pc1': id: /subscriptions/d8610c93-6c20-40ef-8ce5-281bf8b7f1d0/resourceGroups/erickfis-ml-rg/providers/Microsoft.MachineLearningServices/workspaces/poker-ws/computes/pc1,\n",
       " name: pc1,\n",
       " location: brazilsouth,\n",
       " tags: None,\n",
       " properties: {'description': None, 'computeType': 'ComputeInstance', 'computeLocation': 'brazilsouth', 'provisioningErrors': None, 'properties': {'vmSize': 'STANDARD_DS3_V2', 'applications': [{'displayName': 'Jupyter', 'endpointUri': 'https://pc1.brazilsouth.instances.azureml.net'}, {'displayName': 'Jupyter Lab', 'endpointUri': 'https://pc1.brazilsouth.instances.azureml.net/lab'}, {'displayName': 'RStudio', 'endpointUri': 'https://pc1-8787.brazilsouth.instances.azureml.net'}], 'connectivityEndpoints': {'publicIpAddress': '191.233.243.148', 'privateIpAddress': '10.0.0.4'}, 'sshSettings': {'sshPublicAccess': 'Disabled', 'adminUserName': 'azureuser', 'adminPublicKey': None, 'sshPort': 4000}, 'subnet': {'id': None}, 'errors': None}, 'status': {'errors': None, 'creationTime': '2020-05-24T15:33:42.568775+00:00', 'createdBy': {'userId': 'b56eed08-dbeb-424c-8c73-d98adc9ed2b3', 'userOrgId': '76beab57-54f8-4fb0-83b8-4b460826ff88'}, 'modifiedTime': '2020-05-24T15:36:43.960380+00:00', 'state': 'Running', 'vmSize': 'STANDARD_DS3_V2'}}}"
      ]
     },
     "execution_count": 7,
     "metadata": {},
     "output_type": "execute_result"
    }
   ],
   "source": [
    "ws.compute_targets"
   ]
  },
  {
   "cell_type": "markdown",
   "metadata": {},
   "source": [
    "## Stopping the compute target"
   ]
  },
  {
   "cell_type": "code",
   "execution_count": 9,
   "metadata": {},
   "outputs": [],
   "source": [
    "pc = ws.compute_targets['pc1']\n",
    "pc.stop()"
   ]
  },
  {
   "cell_type": "code",
   "execution_count": null,
   "metadata": {},
   "outputs": [],
   "source": []
  }
 ],
 "metadata": {
  "kernelspec": {
   "display_name": "Python 3",
   "language": "python",
   "name": "python3"
  },
  "language_info": {
   "codemirror_mode": {
    "name": "ipython",
    "version": 3
   },
   "file_extension": ".py",
   "mimetype": "text/x-python",
   "name": "python",
   "nbconvert_exporter": "python",
   "pygments_lexer": "ipython3",
   "version": "3.7.3"
  }
 },
 "nbformat": 4,
 "nbformat_minor": 4
}
