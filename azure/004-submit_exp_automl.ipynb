{
 "cells": [
  {
   "cell_type": "markdown",
   "metadata": {},
   "source": [
    "# Submitting an experiment\n",
    "\n",
    "In this notebook, we will use the Estimator object to submit an experiment to processing on a Azure-ML Compute Target.\n",
    "\n",
    "An experiment is a process that can be tracked through its generated metrics.\n",
    "\n",
    "In this particular case, we are using an external Python script to:\n",
    "\n",
    "- get a dataset from Azure DataStorage\n",
    "- create a machine learning pipeline for classification that includes:\n",
    "    - grid search cross validation\n",
    "    - logistic regression\n",
    "    - decision trees\n",
    "    - Random Forests\n",
    "    - Gradient Boosting\n",
    "\n",
    "## Imports\n"
   ]
  },
  {
   "cell_type": "code",
   "execution_count": 1,
   "metadata": {},
   "outputs": [],
   "source": [
    "from azureml.core import Workspace, Experiment\n",
    "from azureml.core.compute import ComputeTarget\n",
    "from azureml.widgets import RunDetails\n",
    "from azureml.train.estimator import Estimator\n",
    "from azureml.train.automl import AutoMLConfig\n"
   ]
  },
  {
   "cell_type": "code",
   "execution_count": 2,
   "metadata": {},
   "outputs": [],
   "source": [
    "# load ws\n",
    "ws = Workspace.from_config()\n",
    "\n",
    "# Get the dataset\n",
    "data = ws.datasets.get('poker_ds')"
   ]
  },
  {
   "cell_type": "markdown",
   "metadata": {},
   "source": [
    "## Compute target"
   ]
  },
  {
   "cell_type": "code",
   "execution_count": 3,
   "metadata": {},
   "outputs": [
    {
     "name": "stdout",
     "output_type": "stream",
     "text": [
      "\n",
      "Running\n"
     ]
    }
   ],
   "source": [
    "# get compute target and start it\n",
    "cpu_cluster = ComputeTarget(workspace=ws, name='pc3')\n",
    "cpu_cluster.start()\n",
    "cpu_cluster.wait_for_completion(show_output=True)"
   ]
  },
  {
   "cell_type": "markdown",
   "metadata": {},
   "source": [
    "## Configure Automl\n"
   ]
  },
  {
   "cell_type": "code",
   "execution_count": 4,
   "metadata": {},
   "outputs": [
    {
     "data": {
      "text/plain": [
       "['accuracy',\n",
       " 'AUC_weighted',\n",
       " 'average_precision_score_weighted',\n",
       " 'norm_macro_recall',\n",
       " 'precision_score_weighted']"
      ]
     },
     "execution_count": 4,
     "metadata": {},
     "output_type": "execute_result"
    }
   ],
   "source": [
    "from azureml.train.automl.utilities import get_primary_metrics\n",
    "\n",
    "get_primary_metrics('classification')"
   ]
  },
  {
   "cell_type": "code",
   "execution_count": 5,
   "metadata": {},
   "outputs": [],
   "source": [
    "automl_config = AutoMLConfig(\n",
    "    name='PokerHand_Classification_AutoML',\n",
    "    task='classification',\n",
    "    compute_target=cpu_cluster,\n",
    "    label_column_name='class',\n",
    "    iterations=1000, # 1000 models will be built\n",
    "    primary_metric = 'accuracy',\n",
    "    max_concurrent_iterations=2,\n",
    "    featurization='auto',\n",
    "    n_cross_validations=5,\n",
    "    enable_early_stopping=True,\n",
    "    max_cores_per_iteration=-1,\n",
    "    experiment_timeout_hours=4,\n",
    "    training_data=data,\n",
    "    )"
   ]
  },
  {
   "cell_type": "code",
   "execution_count": 6,
   "metadata": {},
   "outputs": [
    {
     "name": "stdout",
     "output_type": "stream",
     "text": [
      "Submitting Auto ML experiment...\n",
      "Running on remote or ADB.\n"
     ]
    },
    {
     "data": {
      "application/vnd.jupyter.widget-view+json": {
       "model_id": "ddb0b58d912544a7a3ea31d03eaf1e63",
       "version_major": 2,
       "version_minor": 0
      },
      "text/plain": [
       "_AutoMLWidget(widget_settings={'childWidgetDisplay': 'popup', 'send_telemetry': False, 'log_level': 'INFO', 's…"
      ]
     },
     "metadata": {},
     "output_type": "display_data"
    },
    {
     "data": {
      "application/aml.mini.widget.v1": "{\"status\": \"Running\", \"workbench_run_details_uri\": \"https://ml.azure.com/experiments/PokerHand_Classification_AutoML/runs/AutoML_09cb4d47-dda3-4804-b9c6-5dbbad687dbc?wsid=/subscriptions/d8610c93-6c20-40ef-8ce5-281bf8b7f1d0/resourcegroups/erickfis-ml-rg/workspaces/poker-ws\", \"run_id\": \"AutoML_09cb4d47-dda3-4804-b9c6-5dbbad687dbc\", \"run_properties\": {\"run_id\": \"AutoML_09cb4d47-dda3-4804-b9c6-5dbbad687dbc\", \"created_utc\": \"2020-06-09T03:58:32.370731Z\", \"properties\": {\"num_iterations\": \"1000\", \"training_type\": \"TrainFull\", \"acquisition_function\": \"EI\", \"primary_metric\": \"accuracy\", \"train_split\": \"0\", \"acquisition_parameter\": \"0\", \"num_cross_validation\": \"5\", \"target\": \"pc3\", \"RawAMLSettingsString\": \"{'name': 'PokerHand_Classification_AutoML', 'path': None, 'subscription_id': 'd8610c93-6c20-40ef-8ce5-281bf8b7f1d0', 'resource_group': 'erickfis-ml-rg', 'workspace_name': 'poker-ws', 'region': 'brazilsouth', 'compute_target': 'pc3', 'spark_service': None, 'azure_service': 'remote', '_local_managed_run_id': None, 'iterations': 1000, 'primary_metric': 'accuracy', 'task_type': 'classification', 'data_script': None, 'validation_size': 0.0, 'n_cross_validations': 5, 'y_min': None, 'y_max': None, 'num_classes': None, 'featurization': 'auto', '_ignore_package_version_incompatibilities': False, 'lag_length': 0, 'is_timeseries': False, 'max_cores_per_iteration': -1, 'max_concurrent_iterations': 2, 'iteration_timeout_minutes': None, 'mem_in_mb': None, 'enforce_time_on_windows': True, 'experiment_timeout_minutes': 240, 'experiment_exit_score': None, 'whitelist_models': None, 'blacklist_algos': None, 'supported_models': ['SGD', 'DecisionTree', 'SVM', 'BernoulliNaiveBayes', 'KNN', 'LogisticRegression', 'RandomForest', 'TensorFlowDNN', 'AveragedPerceptronClassifier', 'LightGBM', 'XGBoostClassifier', 'GradientBoosting', 'TensorFlowLinearClassifier', 'ExtremeRandomTrees', 'LinearSVM', 'MultinomialNaiveBayes'], 'auto_blacklist': True, 'blacklist_samples_reached': False, 'exclude_nan_labels': True, 'verbosity': 20, 'debug_log': 'azureml_automl.log', 'show_warnings': False, 'model_explainability': True, 'service_url': None, 'sdk_url': None, 'sdk_packages': None, 'enable_onnx_compatible_models': False, 'enable_split_onnx_featurizer_estimator_models': False, 'vm_type': 'STANDARD_DS3_V2', 'telemetry_verbosity': 20, 'send_telemetry': True, 'enable_dnn': False, 'force_text_dnn': False, 'enable_feature_sweeping': True, 'enable_early_stopping': True, 'early_stopping_n_iters': 10, 'metrics': None, 'enable_ensembling': True, 'enable_stack_ensembling': True, 'ensemble_iterations': 15, 'enable_tf': False, 'enable_cache': True, 'enable_subsampling': False, 'subsample_seed': None, 'enable_nimbusml': False, 'enable_streaming': False, 'force_streaming': False, 'track_child_runs': True, 'label_column_name': 'class', 'weight_column_name': None, 'cv_split_column_names': None, 'cost_mode': 1, 'metric_operation': 'maximize', 'preprocess': True, 'scenario': 'SDK-Compatible'}\", \"AMLSettingsJsonString\": \"{\\\"name\\\": \\\"PokerHand_Classification_AutoML\\\", \\\"path\\\": null, \\\"subscription_id\\\": \\\"d8610c93-6c20-40ef-8ce5-281bf8b7f1d0\\\", \\\"resource_group\\\": \\\"erickfis-ml-rg\\\", \\\"workspace_name\\\": \\\"poker-ws\\\", \\\"region\\\": \\\"brazilsouth\\\", \\\"compute_target\\\": \\\"pc3\\\", \\\"spark_service\\\": null, \\\"azure_service\\\": \\\"remote\\\", \\\"_local_managed_run_id\\\": null, \\\"iterations\\\": 1000, \\\"primary_metric\\\": \\\"accuracy\\\", \\\"task_type\\\": \\\"classification\\\", \\\"data_script\\\": null, \\\"validation_size\\\": 0.0, \\\"n_cross_validations\\\": 5, \\\"y_min\\\": null, \\\"y_max\\\": null, \\\"num_classes\\\": null, \\\"featurization\\\": \\\"auto\\\", \\\"_ignore_package_version_incompatibilities\\\": false, \\\"lag_length\\\": 0, \\\"is_timeseries\\\": false, \\\"max_cores_per_iteration\\\": -1, \\\"max_concurrent_iterations\\\": 2, \\\"iteration_timeout_minutes\\\": null, \\\"mem_in_mb\\\": null, \\\"enforce_time_on_windows\\\": true, \\\"experiment_timeout_minutes\\\": 240, \\\"experiment_exit_score\\\": null, \\\"whitelist_models\\\": null, \\\"blacklist_algos\\\": null, \\\"supported_models\\\": [\\\"SGD\\\", \\\"DecisionTree\\\", \\\"SVM\\\", \\\"BernoulliNaiveBayes\\\", \\\"KNN\\\", \\\"LogisticRegression\\\", \\\"RandomForest\\\", \\\"TensorFlowDNN\\\", \\\"AveragedPerceptronClassifier\\\", \\\"LightGBM\\\", \\\"XGBoostClassifier\\\", \\\"GradientBoosting\\\", \\\"TensorFlowLinearClassifier\\\", \\\"ExtremeRandomTrees\\\", \\\"LinearSVM\\\", \\\"MultinomialNaiveBayes\\\"], \\\"auto_blacklist\\\": true, \\\"blacklist_samples_reached\\\": false, \\\"exclude_nan_labels\\\": true, \\\"verbosity\\\": 20, \\\"debug_log\\\": \\\"azureml_automl.log\\\", \\\"show_warnings\\\": false, \\\"model_explainability\\\": true, \\\"service_url\\\": null, \\\"sdk_url\\\": null, \\\"sdk_packages\\\": null, \\\"enable_onnx_compatible_models\\\": false, \\\"enable_split_onnx_featurizer_estimator_models\\\": false, \\\"vm_type\\\": \\\"STANDARD_DS3_V2\\\", \\\"telemetry_verbosity\\\": 20, \\\"send_telemetry\\\": true, \\\"enable_dnn\\\": false, \\\"force_text_dnn\\\": false, \\\"enable_feature_sweeping\\\": true, \\\"enable_early_stopping\\\": true, \\\"early_stopping_n_iters\\\": 10, \\\"metrics\\\": null, \\\"enable_ensembling\\\": true, \\\"enable_stack_ensembling\\\": true, \\\"ensemble_iterations\\\": 15, \\\"enable_tf\\\": false, \\\"enable_cache\\\": true, \\\"enable_subsampling\\\": false, \\\"subsample_seed\\\": null, \\\"enable_nimbusml\\\": false, \\\"enable_streaming\\\": false, \\\"force_streaming\\\": false, \\\"track_child_runs\\\": true, \\\"label_column_name\\\": \\\"class\\\", \\\"weight_column_name\\\": null, \\\"cv_split_column_names\\\": null, \\\"cost_mode\\\": 1, \\\"metric_operation\\\": \\\"maximize\\\", \\\"preprocess\\\": true, \\\"scenario\\\": \\\"SDK-Compatible\\\"}\", \"DataPrepJsonString\": \"{\\\\\\\"training_data\\\\\\\": \\\\\\\"{\\\\\\\\\\\\\\\"blocks\\\\\\\\\\\\\\\": [{\\\\\\\\\\\\\\\"id\\\\\\\\\\\\\\\": \\\\\\\\\\\\\\\"80587e9e-f525-478b-b839-99750da184f8\\\\\\\\\\\\\\\", \\\\\\\\\\\\\\\"type\\\\\\\\\\\\\\\": \\\\\\\\\\\\\\\"Microsoft.DPrep.GetDatastoreFilesBlock\\\\\\\\\\\\\\\", \\\\\\\\\\\\\\\"arguments\\\\\\\\\\\\\\\": {\\\\\\\\\\\\\\\"datastores\\\\\\\\\\\\\\\": [{\\\\\\\\\\\\\\\"datastoreName\\\\\\\\\\\\\\\": \\\\\\\\\\\\\\\"workspaceblobstore\\\\\\\\\\\\\\\", \\\\\\\\\\\\\\\"path\\\\\\\\\\\\\\\": \\\\\\\\\\\\\\\"poker_data/*.csv\\\\\\\\\\\\\\\", \\\\\\\\\\\\\\\"resourceGroup\\\\\\\\\\\\\\\": \\\\\\\\\\\\\\\"erickfis-ml-rg\\\\\\\\\\\\\\\", \\\\\\\\\\\\\\\"subscription\\\\\\\\\\\\\\\": \\\\\\\\\\\\\\\"d8610c93-6c20-40ef-8ce5-281bf8b7f1d0\\\\\\\\\\\\\\\", \\\\\\\\\\\\\\\"workspaceName\\\\\\\\\\\\\\\": \\\\\\\\\\\\\\\"poker-ws\\\\\\\\\\\\\\\"}]}, \\\\\\\\\\\\\\\"localData\\\\\\\\\\\\\\\": {}, \\\\\\\\\\\\\\\"isEnabled\\\\\\\\\\\\\\\": true, \\\\\\\\\\\\\\\"name\\\\\\\\\\\\\\\": null, \\\\\\\\\\\\\\\"annotation\\\\\\\\\\\\\\\": null}, {\\\\\\\\\\\\\\\"id\\\\\\\\\\\\\\\": \\\\\\\\\\\\\\\"c260bd63-2095-4c3e-974f-6dcab4550a29\\\\\\\\\\\\\\\", \\\\\\\\\\\\\\\"type\\\\\\\\\\\\\\\": \\\\\\\\\\\\\\\"Microsoft.DPrep.ParseDelimitedBlock\\\\\\\\\\\\\\\", \\\\\\\\\\\\\\\"arguments\\\\\\\\\\\\\\\": {\\\\\\\\\\\\\\\"columnHeadersMode\\\\\\\\\\\\\\\": 3, \\\\\\\\\\\\\\\"fileEncoding\\\\\\\\\\\\\\\": 0, \\\\\\\\\\\\\\\"handleQuotedLineBreaks\\\\\\\\\\\\\\\": false, \\\\\\\\\\\\\\\"preview\\\\\\\\\\\\\\\": false, \\\\\\\\\\\\\\\"separator\\\\\\\\\\\\\\\": \\\\\\\\\\\\\\\",\\\\\\\\\\\\\\\", \\\\\\\\\\\\\\\"skipRows\\\\\\\\\\\\\\\": 0, \\\\\\\\\\\\\\\"skipRowsMode\\\\\\\\\\\\\\\": 0}, \\\\\\\\\\\\\\\"localData\\\\\\\\\\\\\\\": {}, \\\\\\\\\\\\\\\"isEnabled\\\\\\\\\\\\\\\": true, \\\\\\\\\\\\\\\"name\\\\\\\\\\\\\\\": null, \\\\\\\\\\\\\\\"annotation\\\\\\\\\\\\\\\": null}, {\\\\\\\\\\\\\\\"id\\\\\\\\\\\\\\\": \\\\\\\\\\\\\\\"55b29472-2a53-4394-8caa-235a62323cfc\\\\\\\\\\\\\\\", \\\\\\\\\\\\\\\"type\\\\\\\\\\\\\\\": \\\\\\\\\\\\\\\"Microsoft.DPrep.DropColumnsBlock\\\\\\\\\\\\\\\", \\\\\\\\\\\\\\\"arguments\\\\\\\\\\\\\\\": {\\\\\\\\\\\\\\\"columns\\\\\\\\\\\\\\\": {\\\\\\\\\\\\\\\"type\\\\\\\\\\\\\\\": 0, \\\\\\\\\\\\\\\"details\\\\\\\\\\\\\\\": {\\\\\\\\\\\\\\\"selectedColumns\\\\\\\\\\\\\\\": [\\\\\\\\\\\\\\\"Path\\\\\\\\\\\\\\\"]}}}, \\\\\\\\\\\\\\\"localData\\\\\\\\\\\\\\\": {}, \\\\\\\\\\\\\\\"isEnabled\\\\\\\\\\\\\\\": true, \\\\\\\\\\\\\\\"name\\\\\\\\\\\\\\\": null, \\\\\\\\\\\\\\\"annotation\\\\\\\\\\\\\\\": null}, {\\\\\\\\\\\\\\\"id\\\\\\\\\\\\\\\": \\\\\\\\\\\\\\\"1fad5217-95b8-4316-976a-cca7c66959ca\\\\\\\\\\\\\\\", \\\\\\\\\\\\\\\"type\\\\\\\\\\\\\\\": \\\\\\\\\\\\\\\"Microsoft.DPrep.SetColumnTypesBlock\\\\\\\\\\\\\\\", \\\\\\\\\\\\\\\"arguments\\\\\\\\\\\\\\\": {\\\\\\\\\\\\\\\"columnConversion\\\\\\\\\\\\\\\": [{\\\\\\\\\\\\\\\"column\\\\\\\\\\\\\\\": {\\\\\\\\\\\\\\\"type\\\\\\\\\\\\\\\": 2, \\\\\\\\\\\\\\\"details\\\\\\\\\\\\\\\": {\\\\\\\\\\\\\\\"selectedColumn\\\\\\\\\\\\\\\": \\\\\\\\\\\\\\\"Rank_1\\\\\\\\\\\\\\\"}}, \\\\\\\\\\\\\\\"typeProperty\\\\\\\\\\\\\\\": 2}, {\\\\\\\\\\\\\\\"column\\\\\\\\\\\\\\\": {\\\\\\\\\\\\\\\"type\\\\\\\\\\\\\\\": 2, \\\\\\\\\\\\\\\"details\\\\\\\\\\\\\\\": {\\\\\\\\\\\\\\\"selectedColumn\\\\\\\\\\\\\\\": \\\\\\\\\\\\\\\"Rank_2\\\\\\\\\\\\\\\"}}, \\\\\\\\\\\\\\\"typeProperty\\\\\\\\\\\\\\\": 2}, {\\\\\\\\\\\\\\\"column\\\\\\\\\\\\\\\": {\\\\\\\\\\\\\\\"type\\\\\\\\\\\\\\\": 2, \\\\\\\\\\\\\\\"details\\\\\\\\\\\\\\\": {\\\\\\\\\\\\\\\"selectedColumn\\\\\\\\\\\\\\\": \\\\\\\\\\\\\\\"Rank_3\\\\\\\\\\\\\\\"}}, \\\\\\\\\\\\\\\"typeProperty\\\\\\\\\\\\\\\": 2}, {\\\\\\\\\\\\\\\"column\\\\\\\\\\\\\\\": {\\\\\\\\\\\\\\\"type\\\\\\\\\\\\\\\": 2, \\\\\\\\\\\\\\\"details\\\\\\\\\\\\\\\": {\\\\\\\\\\\\\\\"selectedColumn\\\\\\\\\\\\\\\": \\\\\\\\\\\\\\\"Rank_4\\\\\\\\\\\\\\\"}}, \\\\\\\\\\\\\\\"typeProperty\\\\\\\\\\\\\\\": 2}, {\\\\\\\\\\\\\\\"column\\\\\\\\\\\\\\\": {\\\\\\\\\\\\\\\"type\\\\\\\\\\\\\\\": 2, \\\\\\\\\\\\\\\"details\\\\\\\\\\\\\\\": {\\\\\\\\\\\\\\\"selectedColumn\\\\\\\\\\\\\\\": \\\\\\\\\\\\\\\"Rank_5\\\\\\\\\\\\\\\"}}, \\\\\\\\\\\\\\\"typeProperty\\\\\\\\\\\\\\\": 2}, {\\\\\\\\\\\\\\\"column\\\\\\\\\\\\\\\": {\\\\\\\\\\\\\\\"type\\\\\\\\\\\\\\\": 2, \\\\\\\\\\\\\\\"details\\\\\\\\\\\\\\\": {\\\\\\\\\\\\\\\"selectedColumn\\\\\\\\\\\\\\\": \\\\\\\\\\\\\\\"class\\\\\\\\\\\\\\\"}}, \\\\\\\\\\\\\\\"typeProperty\\\\\\\\\\\\\\\": 2}, {\\\\\\\\\\\\\\\"column\\\\\\\\\\\\\\\": {\\\\\\\\\\\\\\\"type\\\\\\\\\\\\\\\": 2, \\\\\\\\\\\\\\\"details\\\\\\\\\\\\\\\": {\\\\\\\\\\\\\\\"selectedColumn\\\\\\\\\\\\\\\": \\\\\\\\\\\\\\\"Suit_1_2\\\\\\\\\\\\\\\"}}, \\\\\\\\\\\\\\\"typeProperty\\\\\\\\\\\\\\\": 2}, {\\\\\\\\\\\\\\\"column\\\\\\\\\\\\\\\": {\\\\\\\\\\\\\\\"type\\\\\\\\\\\\\\\": 2, \\\\\\\\\\\\\\\"details\\\\\\\\\\\\\\\": {\\\\\\\\\\\\\\\"selectedColumn\\\\\\\\\\\\\\\": \\\\\\\\\\\\\\\"Suit_1_3\\\\\\\\\\\\\\\"}}, \\\\\\\\\\\\\\\"typeProperty\\\\\\\\\\\\\\\": 2}, {\\\\\\\\\\\\\\\"column\\\\\\\\\\\\\\\": {\\\\\\\\\\\\\\\"type\\\\\\\\\\\\\\\": 2, \\\\\\\\\\\\\\\"details\\\\\\\\\\\\\\\": {\\\\\\\\\\\\\\\"selectedColumn\\\\\\\\\\\\\\\": \\\\\\\\\\\\\\\"Suit_1_4\\\\\\\\\\\\\\\"}}, \\\\\\\\\\\\\\\"typeProperty\\\\\\\\\\\\\\\": 2}, {\\\\\\\\\\\\\\\"column\\\\\\\\\\\\\\\": {\\\\\\\\\\\\\\\"type\\\\\\\\\\\\\\\": 2, \\\\\\\\\\\\\\\"details\\\\\\\\\\\\\\\": {\\\\\\\\\\\\\\\"selectedColumn\\\\\\\\\\\\\\\": \\\\\\\\\\\\\\\"Suit_2_2\\\\\\\\\\\\\\\"}}, \\\\\\\\\\\\\\\"typeProperty\\\\\\\\\\\\\\\": 2}, {\\\\\\\\\\\\\\\"column\\\\\\\\\\\\\\\": {\\\\\\\\\\\\\\\"type\\\\\\\\\\\\\\\": 2, \\\\\\\\\\\\\\\"details\\\\\\\\\\\\\\\": {\\\\\\\\\\\\\\\"selectedColumn\\\\\\\\\\\\\\\": \\\\\\\\\\\\\\\"Suit_2_3\\\\\\\\\\\\\\\"}}, \\\\\\\\\\\\\\\"typeProperty\\\\\\\\\\\\\\\": 2}, {\\\\\\\\\\\\\\\"column\\\\\\\\\\\\\\\": {\\\\\\\\\\\\\\\"type\\\\\\\\\\\\\\\": 2, \\\\\\\\\\\\\\\"details\\\\\\\\\\\\\\\": {\\\\\\\\\\\\\\\"selectedColumn\\\\\\\\\\\\\\\": \\\\\\\\\\\\\\\"Suit_2_4\\\\\\\\\\\\\\\"}}, \\\\\\\\\\\\\\\"typeProperty\\\\\\\\\\\\\\\": 2}, {\\\\\\\\\\\\\\\"column\\\\\\\\\\\\\\\": {\\\\\\\\\\\\\\\"type\\\\\\\\\\\\\\\": 2, \\\\\\\\\\\\\\\"details\\\\\\\\\\\\\\\": {\\\\\\\\\\\\\\\"selectedColumn\\\\\\\\\\\\\\\": \\\\\\\\\\\\\\\"Suit_3_2\\\\\\\\\\\\\\\"}}, \\\\\\\\\\\\\\\"typeProperty\\\\\\\\\\\\\\\": 2}, {\\\\\\\\\\\\\\\"column\\\\\\\\\\\\\\\": {\\\\\\\\\\\\\\\"type\\\\\\\\\\\\\\\": 2, \\\\\\\\\\\\\\\"details\\\\\\\\\\\\\\\": {\\\\\\\\\\\\\\\"selectedColumn\\\\\\\\\\\\\\\": \\\\\\\\\\\\\\\"Suit_3_3\\\\\\\\\\\\\\\"}}, \\\\\\\\\\\\\\\"typeProperty\\\\\\\\\\\\\\\": 2}, {\\\\\\\\\\\\\\\"column\\\\\\\\\\\\\\\": {\\\\\\\\\\\\\\\"type\\\\\\\\\\\\\\\": 2, \\\\\\\\\\\\\\\"details\\\\\\\\\\\\\\\": {\\\\\\\\\\\\\\\"selectedColumn\\\\\\\\\\\\\\\": \\\\\\\\\\\\\\\"Suit_3_4\\\\\\\\\\\\\\\"}}, \\\\\\\\\\\\\\\"typeProperty\\\\\\\\\\\\\\\": 2}, {\\\\\\\\\\\\\\\"column\\\\\\\\\\\\\\\": {\\\\\\\\\\\\\\\"type\\\\\\\\\\\\\\\": 2, \\\\\\\\\\\\\\\"details\\\\\\\\\\\\\\\": {\\\\\\\\\\\\\\\"selectedColumn\\\\\\\\\\\\\\\": \\\\\\\\\\\\\\\"Suit_4_2\\\\\\\\\\\\\\\"}}, \\\\\\\\\\\\\\\"typeProperty\\\\\\\\\\\\\\\": 2}, {\\\\\\\\\\\\\\\"column\\\\\\\\\\\\\\\": {\\\\\\\\\\\\\\\"type\\\\\\\\\\\\\\\": 2, \\\\\\\\\\\\\\\"details\\\\\\\\\\\\\\\": {\\\\\\\\\\\\\\\"selectedColumn\\\\\\\\\\\\\\\": \\\\\\\\\\\\\\\"Suit_4_3\\\\\\\\\\\\\\\"}}, \\\\\\\\\\\\\\\"typeProperty\\\\\\\\\\\\\\\": 2}, {\\\\\\\\\\\\\\\"column\\\\\\\\\\\\\\\": {\\\\\\\\\\\\\\\"type\\\\\\\\\\\\\\\": 2, \\\\\\\\\\\\\\\"details\\\\\\\\\\\\\\\": {\\\\\\\\\\\\\\\"selectedColumn\\\\\\\\\\\\\\\": \\\\\\\\\\\\\\\"Suit_4_4\\\\\\\\\\\\\\\"}}, \\\\\\\\\\\\\\\"typeProperty\\\\\\\\\\\\\\\": 2}, {\\\\\\\\\\\\\\\"column\\\\\\\\\\\\\\\": {\\\\\\\\\\\\\\\"type\\\\\\\\\\\\\\\": 2, \\\\\\\\\\\\\\\"details\\\\\\\\\\\\\\\": {\\\\\\\\\\\\\\\"selectedColumn\\\\\\\\\\\\\\\": \\\\\\\\\\\\\\\"Suit_5_2\\\\\\\\\\\\\\\"}}, \\\\\\\\\\\\\\\"typeProperty\\\\\\\\\\\\\\\": 2}, {\\\\\\\\\\\\\\\"column\\\\\\\\\\\\\\\": {\\\\\\\\\\\\\\\"type\\\\\\\\\\\\\\\": 2, \\\\\\\\\\\\\\\"details\\\\\\\\\\\\\\\": {\\\\\\\\\\\\\\\"selectedColumn\\\\\\\\\\\\\\\": \\\\\\\\\\\\\\\"Suit_5_3\\\\\\\\\\\\\\\"}}, \\\\\\\\\\\\\\\"typeProperty\\\\\\\\\\\\\\\": 2}, {\\\\\\\\\\\\\\\"column\\\\\\\\\\\\\\\": {\\\\\\\\\\\\\\\"type\\\\\\\\\\\\\\\": 2, \\\\\\\\\\\\\\\"details\\\\\\\\\\\\\\\": {\\\\\\\\\\\\\\\"selectedColumn\\\\\\\\\\\\\\\": \\\\\\\\\\\\\\\"Suit_5_4\\\\\\\\\\\\\\\"}}, \\\\\\\\\\\\\\\"typeProperty\\\\\\\\\\\\\\\": 2}]}, \\\\\\\\\\\\\\\"localData\\\\\\\\\\\\\\\": {}, \\\\\\\\\\\\\\\"isEnabled\\\\\\\\\\\\\\\": true, \\\\\\\\\\\\\\\"name\\\\\\\\\\\\\\\": null, \\\\\\\\\\\\\\\"annotation\\\\\\\\\\\\\\\": null}], \\\\\\\\\\\\\\\"inspectors\\\\\\\\\\\\\\\": [], \\\\\\\\\\\\\\\"meta\\\\\\\\\\\\\\\": {\\\\\\\\\\\\\\\"savedDatasetId\\\\\\\\\\\\\\\": \\\\\\\\\\\\\\\"f2876c22-d6d2-402e-8eb4-07edf3816a20\\\\\\\\\\\\\\\", \\\\\\\\\\\\\\\"datasetType\\\\\\\\\\\\\\\": \\\\\\\\\\\\\\\"tabular\\\\\\\\\\\\\\\", \\\\\\\\\\\\\\\"subscriptionId\\\\\\\\\\\\\\\": \\\\\\\\\\\\\\\"d8610c93-6c20-40ef-8ce5-281bf8b7f1d0\\\\\\\\\\\\\\\", \\\\\\\\\\\\\\\"workspaceId\\\\\\\\\\\\\\\": \\\\\\\\\\\\\\\"a355e424-19e0-41fb-a4a1-ce12801f1761\\\\\\\\\\\\\\\", \\\\\\\\\\\\\\\"workspaceLocation\\\\\\\\\\\\\\\": \\\\\\\\\\\\\\\"brazilsouth\\\\\\\\\\\\\\\"}}\\\\\\\", \\\\\\\"activities\\\\\\\": 0}\", \"EnableSubsampling\": \"False\", \"runTemplate\": \"AutoML\", \"azureml.runsource\": \"automl\", \"display_task_type\": \"classification\", \"dependencies_versions\": \"{\\\"azureml-widgets\\\": \\\"1.6.0\\\", \\\"azureml-train\\\": \\\"1.6.0\\\", \\\"azureml-train-restclients-hyperdrive\\\": \\\"1.6.0\\\", \\\"azureml-train-core\\\": \\\"1.6.0.post1\\\", \\\"azureml-train-automl\\\": \\\"1.6.0\\\", \\\"azureml-train-automl-runtime\\\": \\\"1.6.0\\\", \\\"azureml-train-automl-client\\\": \\\"1.6.0.post1\\\", \\\"azureml-telemetry\\\": \\\"1.6.0\\\", \\\"azureml-sdk\\\": \\\"1.6.0\\\", \\\"azureml-pipeline\\\": \\\"1.6.0\\\", \\\"azureml-pipeline-steps\\\": \\\"1.6.0\\\", \\\"azureml-pipeline-core\\\": \\\"1.6.0\\\", \\\"azureml-model-management-sdk\\\": \\\"1.0.1b6.post1\\\", \\\"azureml-interpret\\\": \\\"1.6.0\\\", \\\"azureml-explain-model\\\": \\\"1.6.0\\\", \\\"azureml-defaults\\\": \\\"1.6.0\\\", \\\"azureml-dataprep\\\": \\\"1.6.3\\\", \\\"azureml-dataprep-native\\\": \\\"14.2.0\\\", \\\"azureml-core\\\": \\\"1.6.0.post1\\\", \\\"azureml-contrib-notebook\\\": \\\"1.6.0\\\", \\\"azureml-automl-runtime\\\": \\\"1.6.0.post1\\\", \\\"azureml-automl-core\\\": \\\"1.6.0\\\"}\", \"ClientSdkVersion\": \"1.6.0\", \"ClientType\": \"SDK\", \"environment_cpu_name\": \"AzureML-AutoML\", \"environment_cpu_version\": \"14\", \"environment_gpu_name\": \"AzureML-AutoML-GPU\", \"environment_gpu_version\": \"8\", \"root_attribution\": \"AutoML\", \"attribution\": \"AutoML\", \"CancelUri\": \"https://brazilsouth.experiments.azureml.net/jasmine/v1.0/subscriptions/d8610c93-6c20-40ef-8ce5-281bf8b7f1d0/resourceGroups/erickfis-ml-rg/providers/Microsoft.MachineLearningServices/workspaces/poker-ws/experiment/PokerHand_Classification_AutoML/cancel/AutoML_09cb4d47-dda3-4804-b9c6-5dbbad687dbc\", \"Orchestrator\": \"AutoML\", \"azureml.git.repository_uri\": \"https://github.com/erickfis/azureStudy.git\", \"mlflow.source.git.repoURL\": \"https://github.com/erickfis/azureStudy.git\", \"azureml.git.branch\": \"master\", \"mlflow.source.git.branch\": \"master\", \"azureml.git.commit\": \"dec6cbc2fdaaff3df750010c9cd797eb4f4b5ad8\", \"mlflow.source.git.commit\": \"dec6cbc2fdaaff3df750010c9cd797eb4f4b5ad8\", \"azureml.git.dirty\": \"True\", \"SetupRunId\": \"AutoML_09cb4d47-dda3-4804-b9c6-5dbbad687dbc_setup\", \"SetupRunContainerId\": \"dcid.AutoML_09cb4d47-dda3-4804-b9c6-5dbbad687dbc_setup\", \"ProblemInfoJsonString\": \"{\\\"dataset_num_categorical\\\": 0, \\\"is_sparse\\\": true, \\\"subsampling\\\": false, \\\"dataset_classes\\\": 10, \\\"dataset_features\\\": 80, \\\"dataset_samples\\\": 25009, \\\"single_frequency_class_detected\\\": false}\"}, \"tags\": {\"model_explain_run\": \"best_run\", \"pipeline_id\": \"<c7af0367625be6ac5c2fecbfc72ed444cb7a2111>;<ebca1e73125a3c9a8c7ce93f7de1888095655021>;<75cc4131135a51744d748dedb03da83cafd8f63d>;<5dfac790c5c209f98a1da2dc1c7fb76f0397324f>;<59dc38673c6cec5b60ee6d97376815f22e670c99>;<d9be42186dd2ac9ef8b4e7d32d05996b7fda61e8>;<032c2f067189c1f56172ca21b98c8843539dd9de>;<bb4b825b2e1f80e2b1eb1dcaa93171bfce10c4a5>;<345219bb9339d2a67a6898d261ee3d85bb470f0b>;\", \"score\": \"<0.686912085795556>;<NaN>;<NaN>;<0.804790445349555>;<NaN>;<NaN>;<NaN>;<NaN>;<NaN>;\", \"predicted_cost\": \"<0>;<0.5>;<NaN>;<0>;<NaN>;<NaN>;<NaN>;<NaN>;<NaN>;\", \"fit_time\": \"<6.9590584>;<NaN>;<NaN>;<10.8964176>;<NaN>;<NaN>;<NaN>;<NaN>;<NaN>;\", \"training_percent\": \"<100>;<100>;<100>;<100>;<100>;<100>;<100>;<100>;<100>;\", \"iteration\": \"<1>;<2>;<3>;<0>;<4>;<5>;<6>;<7>;<8>;\", \"run_preprocessor\": \"<MaxAbsScaler>;<>;<>;<MaxAbsScaler>;<>;<>;<>;<>;<>;\", \"run_algorithm\": \"<XGBoostClassifier>;<>;<>;<LightGBM>;<>;<>;<>;<>;<>;\"}, \"end_time_utc\": null, \"status\": \"Running\", \"log_files\": {}, \"log_groups\": [], \"run_duration\": \"0:05:35\"}, \"child_runs\": [{\"run_id\": \"AutoML_09cb4d47-dda3-4804-b9c6-5dbbad687dbc_0\", \"run_number\": 79, \"metric\": null, \"status\": \"Completed\", \"run_type\": \"azureml.scriptrun\", \"training_percent\": \"100\", \"start_time\": \"2020-06-09T04:00:43.096227Z\", \"end_time\": \"2020-06-09T04:03:25.806301Z\", \"created_time\": \"2020-06-09T04:00:28.324598Z\", \"created_time_dt\": \"2020-06-09T04:00:28.324598Z\", \"duration\": \"0:02:57\", \"iteration\": \"0\", \"goal\": \"accuracy_max\", \"run_name\": \"MaxAbsScaler, LightGBM\", \"run_properties\": \"copy=True\", \"primary_metric\": 0.80479045, \"best_metric\": 0.80479045}, {\"run_id\": \"AutoML_09cb4d47-dda3-4804-b9c6-5dbbad687dbc_1\", \"run_number\": 80, \"metric\": null, \"status\": \"Completed\", \"run_type\": \"azureml.scriptrun\", \"training_percent\": \"100\", \"start_time\": \"2020-06-09T04:00:42.497882Z\", \"end_time\": \"2020-06-09T04:02:49.538047Z\", \"created_time\": \"2020-06-09T04:00:28.352395Z\", \"created_time_dt\": \"2020-06-09T04:00:28.352395Z\", \"duration\": \"0:02:21\", \"iteration\": \"1\", \"goal\": \"accuracy_max\", \"run_name\": \"MaxAbsScaler, XGBoostClassifier\", \"run_properties\": \"copy=True\", \"primary_metric\": 0.68691209, \"best_metric\": 0.80479045}, {\"run_id\": \"AutoML_09cb4d47-dda3-4804-b9c6-5dbbad687dbc_2\", \"run_number\": 81, \"metric\": null, \"status\": \"Failed\", \"run_type\": \"azureml.scriptrun\", \"training_percent\": \"100\", \"start_time\": \"2020-06-09T04:02:57.761618Z\", \"end_time\": \"2020-06-09T04:02:59.636455Z\", \"created_time\": \"2020-06-09T04:02:57.761618Z\", \"created_time_dt\": \"2020-06-09T04:02:57.761618Z\", \"duration\": \"0:00:01\", \"iteration\": \"2\", \"goal\": null, \"run_name\": \"Failed\", \"run_properties\": null}, {\"run_id\": \"AutoML_09cb4d47-dda3-4804-b9c6-5dbbad687dbc_3\", \"run_number\": 82, \"metric\": null, \"status\": \"Failed\", \"run_type\": \"azureml.scriptrun\", \"training_percent\": \"100\", \"start_time\": \"2020-06-09T04:03:11.514015Z\", \"end_time\": \"2020-06-09T04:03:13.208752Z\", \"created_time\": \"2020-06-09T04:03:11.514015Z\", \"created_time_dt\": \"2020-06-09T04:03:11.514015Z\", \"duration\": \"0:00:01\", \"iteration\": \"3\", \"goal\": null, \"run_name\": \"Failed\", \"run_properties\": null}, {\"run_id\": \"AutoML_09cb4d47-dda3-4804-b9c6-5dbbad687dbc_4\", \"run_number\": 83, \"metric\": null, \"status\": \"Failed\", \"run_type\": \"azureml.scriptrun\", \"training_percent\": \"100\", \"start_time\": \"2020-06-09T04:03:25.351174Z\", \"end_time\": \"2020-06-09T04:03:26.35795Z\", \"created_time\": \"2020-06-09T04:03:25.351174Z\", \"created_time_dt\": \"2020-06-09T04:03:25.351174Z\", \"duration\": \"0:00:01\", \"iteration\": \"4\", \"goal\": null, \"run_name\": \"Failed\", \"run_properties\": null}, {\"run_id\": \"AutoML_09cb4d47-dda3-4804-b9c6-5dbbad687dbc_5\", \"run_number\": 84, \"metric\": null, \"status\": \"Failed\", \"run_type\": \"azureml.scriptrun\", \"training_percent\": \"100\", \"start_time\": \"2020-06-09T04:03:37.815426Z\", \"end_time\": \"2020-06-09T04:03:38.966464Z\", \"created_time\": \"2020-06-09T04:03:37.815426Z\", \"created_time_dt\": \"2020-06-09T04:03:37.815426Z\", \"duration\": \"0:00:01\", \"iteration\": \"5\", \"goal\": null, \"run_name\": \"Failed\", \"run_properties\": null}, {\"run_id\": \"AutoML_09cb4d47-dda3-4804-b9c6-5dbbad687dbc_6\", \"run_number\": 85, \"metric\": null, \"status\": \"Failed\", \"run_type\": \"azureml.scriptrun\", \"training_percent\": \"100\", \"start_time\": \"2020-06-09T04:03:37.819779Z\", \"end_time\": \"2020-06-09T04:03:39.31207Z\", \"created_time\": \"2020-06-09T04:03:37.819779Z\", \"created_time_dt\": \"2020-06-09T04:03:37.819779Z\", \"duration\": \"0:00:01\", \"iteration\": \"6\", \"goal\": null, \"run_name\": \"Failed\", \"run_properties\": null}, {\"run_id\": \"AutoML_09cb4d47-dda3-4804-b9c6-5dbbad687dbc_7\", \"run_number\": 86, \"metric\": null, \"status\": \"Failed\", \"run_type\": \"azureml.scriptrun\", \"training_percent\": \"100\", \"start_time\": \"2020-06-09T04:03:51.432212Z\", \"end_time\": \"2020-06-09T04:03:52.670934Z\", \"created_time\": \"2020-06-09T04:03:51.432212Z\", \"created_time_dt\": \"2020-06-09T04:03:51.432212Z\", \"duration\": \"0:00:01\", \"iteration\": \"7\", \"goal\": null, \"run_name\": \"Failed\", \"run_properties\": null}, {\"run_id\": \"AutoML_09cb4d47-dda3-4804-b9c6-5dbbad687dbc_8\", \"run_number\": 87, \"metric\": null, \"status\": \"Failed\", \"run_type\": \"azureml.scriptrun\", \"training_percent\": \"100\", \"start_time\": \"2020-06-09T04:03:51.433288Z\", \"end_time\": \"2020-06-09T04:03:53.694631Z\", \"created_time\": \"2020-06-09T04:03:51.433288Z\", \"created_time_dt\": \"2020-06-09T04:03:51.433288Z\", \"duration\": \"0:00:02\", \"iteration\": \"8\", \"goal\": null, \"run_name\": \"Failed\", \"run_properties\": null}, {\"run_id\": \"AutoML_09cb4d47-dda3-4804-b9c6-5dbbad687dbc_9\", \"run_number\": 88, \"metric\": null, \"status\": \"Failed\", \"run_type\": \"azureml.scriptrun\", \"training_percent\": \"100\", \"start_time\": \"2020-06-09T04:04:05.49849Z\", \"end_time\": \"2020-06-09T04:04:06.414253Z\", \"created_time\": \"2020-06-09T04:04:05.49849Z\", \"created_time_dt\": \"2020-06-09T04:04:05.49849Z\", \"duration\": \"0:00:00\", \"iteration\": \"9\", \"goal\": null, \"run_name\": \"Failed\", \"run_properties\": null}, {\"run_id\": \"AutoML_09cb4d47-dda3-4804-b9c6-5dbbad687dbc_10\", \"run_number\": 89, \"metric\": null, \"status\": \"Failed\", \"run_type\": \"azureml.scriptrun\", \"training_percent\": \"100\", \"start_time\": \"2020-06-09T04:04:05.52299Z\", \"end_time\": \"2020-06-09T04:04:06.652937Z\", \"created_time\": \"2020-06-09T04:04:05.52299Z\", \"created_time_dt\": \"2020-06-09T04:04:05.52299Z\", \"duration\": \"0:00:01\", \"iteration\": \"10\", \"goal\": null, \"run_name\": \"Failed\", \"run_properties\": null}], \"children_metrics\": {\"categories\": [0], \"series\": {\"accuracy\": [{\"categories\": [\"0\", \"1\"], \"mode\": \"markers\", \"name\": \"accuracy\", \"stepped\": false, \"type\": \"scatter\", \"data\": [0.8047904453495546, 0.6869120857955558]}, {\"categories\": [\"0\", \"1\"], \"mode\": \"lines\", \"name\": \"accuracy_max\", \"stepped\": true, \"type\": \"scatter\", \"data\": [0.8047904453495546, 0.8047904453495546]}], \"matthews_correlation\": [{\"categories\": [\"0\", \"1\"], \"mode\": \"markers\", \"name\": \"matthews_correlation\", \"stepped\": false, \"type\": \"scatter\", \"data\": [0.6466066837220275, 0.44769653474251747]}, {\"categories\": [\"0\", \"1\"], \"mode\": \"lines\", \"name\": \"matthews_correlation_max\", \"stepped\": true, \"type\": \"scatter\", \"data\": [0.6466066837220275, 0.6466066837220275]}], \"recall_score_weighted\": [{\"categories\": [\"0\", \"1\"], \"mode\": \"markers\", \"name\": \"recall_score_weighted\", \"stepped\": false, \"type\": \"scatter\", \"data\": [0.8047904453495546, 0.6869120857955558]}, {\"categories\": [\"0\", \"1\"], \"mode\": \"lines\", \"name\": \"recall_score_weighted_max\", \"stepped\": true, \"type\": \"scatter\", \"data\": [0.8047904453495546, 0.8047904453495546]}], \"f1_score_macro\": [{\"categories\": [\"0\", \"1\"], \"mode\": \"markers\", \"name\": \"f1_score_macro\", \"stepped\": false, \"type\": \"scatter\", \"data\": [0.17644670642183505, 0.1416888102918514]}, {\"categories\": [\"0\", \"1\"], \"mode\": \"lines\", \"name\": \"f1_score_macro_max\", \"stepped\": true, \"type\": \"scatter\", \"data\": [0.17644670642183505, 0.17644670642183505]}], \"weighted_accuracy\": [{\"categories\": [\"0\", \"1\"], \"mode\": \"markers\", \"name\": \"weighted_accuracy\", \"stepped\": false, \"type\": \"scatter\", \"data\": [0.8741160102640702, 0.7613480603897052]}, {\"categories\": [\"0\", \"1\"], \"mode\": \"lines\", \"name\": \"weighted_accuracy_max\", \"stepped\": true, \"type\": \"scatter\", \"data\": [0.8741160102640702, 0.8741160102640702]}], \"recall_score_micro\": [{\"categories\": [\"0\", \"1\"], \"mode\": \"markers\", \"name\": \"recall_score_micro\", \"stepped\": false, \"type\": \"scatter\", \"data\": [0.8047904453495546, 0.6869120857955558]}, {\"categories\": [\"0\", \"1\"], \"mode\": \"lines\", \"name\": \"recall_score_micro_max\", \"stepped\": true, \"type\": \"scatter\", \"data\": [0.8047904453495546, 0.8047904453495546]}], \"AUC_macro\": [{\"categories\": [\"0\", \"1\"], \"mode\": \"markers\", \"name\": \"AUC_macro\", \"stepped\": false, \"type\": \"scatter\", \"data\": [0.7232309227645399, 0.6527159687650282]}, {\"categories\": [\"0\", \"1\"], \"mode\": \"lines\", \"name\": \"AUC_macro_max\", \"stepped\": true, \"type\": \"scatter\", \"data\": [0.7232309227645399, 0.7232309227645399]}], \"precision_score_macro\": [{\"categories\": [\"0\", \"1\"], \"mode\": \"markers\", \"name\": \"precision_score_macro\", \"stepped\": false, \"type\": \"scatter\", \"data\": [0.2177417900282846, 0.14830523802208526]}, {\"categories\": [\"0\", \"1\"], \"mode\": \"lines\", \"name\": \"precision_score_macro_max\", \"stepped\": true, \"type\": \"scatter\", \"data\": [0.2177417900282846, 0.2177417900282846]}], \"AUC_micro\": [{\"categories\": [\"0\", \"1\"], \"mode\": \"markers\", \"name\": \"AUC_micro\", \"stepped\": false, \"type\": \"scatter\", \"data\": [0.9676023891417869, 0.9633906257590168]}, {\"categories\": [\"0\", \"1\"], \"mode\": \"lines\", \"name\": \"AUC_micro_max\", \"stepped\": true, \"type\": \"scatter\", \"data\": [0.9676023891417869, 0.9676023891417869]}], \"balanced_accuracy\": [{\"categories\": [\"0\", \"1\"], \"mode\": \"markers\", \"name\": \"balanced_accuracy\", \"stepped\": false, \"type\": \"scatter\", \"data\": [0.18808625663485296, 0.1506893620580472]}, {\"categories\": [\"0\", \"1\"], \"mode\": \"lines\", \"name\": \"balanced_accuracy_max\", \"stepped\": true, \"type\": \"scatter\", \"data\": [0.18808625663485296, 0.18808625663485296]}], \"AUC_weighted\": [{\"categories\": [\"0\", \"1\"], \"mode\": \"markers\", \"name\": \"AUC_weighted\", \"stepped\": false, \"type\": \"scatter\", \"data\": [0.8987243934131314, 0.8520181406835136]}, {\"categories\": [\"0\", \"1\"], \"mode\": \"lines\", \"name\": \"AUC_weighted_max\", \"stepped\": true, \"type\": \"scatter\", \"data\": [0.8987243934131314, 0.8987243934131314]}], \"log_loss\": [{\"categories\": [\"0\", \"1\"], \"mode\": \"markers\", \"name\": \"log_loss\", \"stepped\": false, \"type\": \"scatter\", \"data\": [0.9668714681369996, 0.8862332619506441]}, {\"categories\": [\"0\", \"1\"], \"mode\": \"lines\", \"name\": \"log_loss_min\", \"stepped\": true, \"type\": \"scatter\", \"data\": [0.9668714681369996, 0.8862332619506441]}], \"precision_score_weighted\": [{\"categories\": [\"0\", \"1\"], \"mode\": \"markers\", \"name\": \"precision_score_weighted\", \"stepped\": false, \"type\": \"scatter\", \"data\": [0.7684853158155894, 0.652086330904331]}, {\"categories\": [\"0\", \"1\"], \"mode\": \"lines\", \"name\": \"precision_score_weighted_max\", \"stepped\": true, \"type\": \"scatter\", \"data\": [0.7684853158155894, 0.7684853158155894]}], \"average_precision_score_weighted\": [{\"categories\": [\"0\", \"1\"], \"mode\": \"markers\", \"name\": \"average_precision_score_weighted\", \"stepped\": false, \"type\": \"scatter\", \"data\": [0.7787693352205851, 0.7366190380970072]}, {\"categories\": [\"0\", \"1\"], \"mode\": \"lines\", \"name\": \"average_precision_score_weighted_max\", \"stepped\": true, \"type\": \"scatter\", \"data\": [0.7787693352205851, 0.7787693352205851]}], \"recall_score_macro\": [{\"categories\": [\"0\", \"1\"], \"mode\": \"markers\", \"name\": \"recall_score_macro\", \"stepped\": false, \"type\": \"scatter\", \"data\": [0.18808625663485296, 0.1506893620580472]}, {\"categories\": [\"0\", \"1\"], \"mode\": \"lines\", \"name\": \"recall_score_macro_max\", \"stepped\": true, \"type\": \"scatter\", \"data\": [0.18808625663485296, 0.18808625663485296]}], \"f1_score_weighted\": [{\"categories\": [\"0\", \"1\"], \"mode\": \"markers\", \"name\": \"f1_score_weighted\", \"stepped\": false, \"type\": \"scatter\", \"data\": [0.7748766745455948, 0.6352107968376869]}, {\"categories\": [\"0\", \"1\"], \"mode\": \"lines\", \"name\": \"f1_score_weighted_max\", \"stepped\": true, \"type\": \"scatter\", \"data\": [0.7748766745455948, 0.7748766745455948]}], \"precision_score_micro\": [{\"categories\": [\"0\", \"1\"], \"mode\": \"markers\", \"name\": \"precision_score_micro\", \"stepped\": false, \"type\": \"scatter\", \"data\": [0.8047904453495546, 0.6869120857955558]}, {\"categories\": [\"0\", \"1\"], \"mode\": \"lines\", \"name\": \"precision_score_micro_max\", \"stepped\": true, \"type\": \"scatter\", \"data\": [0.8047904453495546, 0.8047904453495546]}], \"average_precision_score_micro\": [{\"categories\": [\"0\", \"1\"], \"mode\": \"markers\", \"name\": \"average_precision_score_micro\", \"stepped\": false, \"type\": \"scatter\", \"data\": [0.7588379445487563, 0.7171256888948239]}, {\"categories\": [\"0\", \"1\"], \"mode\": \"lines\", \"name\": \"average_precision_score_micro_max\", \"stepped\": true, \"type\": \"scatter\", \"data\": [0.7588379445487563, 0.7588379445487563]}], \"norm_macro_recall\": [{\"categories\": [\"0\", \"1\"], \"mode\": \"markers\", \"name\": \"norm_macro_recall\", \"stepped\": false, \"type\": \"scatter\", \"data\": [0.1024956146344643, 0.05166004677676185]}, {\"categories\": [\"0\", \"1\"], \"mode\": \"lines\", \"name\": \"norm_macro_recall_max\", \"stepped\": true, \"type\": \"scatter\", \"data\": [0.1024956146344643, 0.1024956146344643]}], \"average_precision_score_macro\": [{\"categories\": [\"0\", \"1\"], \"mode\": \"markers\", \"name\": \"average_precision_score_macro\", \"stepped\": false, \"type\": \"scatter\", \"data\": [0.22411431548808852, 0.20446538077837445]}, {\"categories\": [\"0\", \"1\"], \"mode\": \"lines\", \"name\": \"average_precision_score_macro_max\", \"stepped\": true, \"type\": \"scatter\", \"data\": [0.22411431548808852, 0.22411431548808852]}], \"f1_score_micro\": [{\"categories\": [\"0\", \"1\"], \"mode\": \"markers\", \"name\": \"f1_score_micro\", \"stepped\": false, \"type\": \"scatter\", \"data\": [0.8047904453495546, 0.6869120857955558]}, {\"categories\": [\"0\", \"1\"], \"mode\": \"lines\", \"name\": \"f1_score_micro_max\", \"stepped\": true, \"type\": \"scatter\", \"data\": [0.8047904453495546, 0.8047904453495546]}]}, \"metricName\": null, \"primaryMetricName\": \"accuracy\", \"showLegend\": false}, \"run_metrics\": [{\"name\": \"experiment_status\", \"run_id\": \"AutoML_09cb4d47-dda3-4804-b9c6-5dbbad687dbc\", \"categories\": [0, 1, 2, 3, 4, 5, 6], \"series\": [{\"data\": [\"DatasetEvaluation\", \"FeaturesGeneration\", \"DatasetFeaturization\", \"DatasetFeaturizationCompleted\", \"DatasetBalancing\", \"DatasetCrossValidationSplit\", \"ModelSelection\"]}]}, {\"name\": \"experiment_status_description\", \"run_id\": \"AutoML_09cb4d47-dda3-4804-b9c6-5dbbad687dbc\", \"categories\": [0, 1, 2, 3, 4, 5, 6], \"series\": [{\"data\": [\"Gathering dataset statistics.\", \"Generating features for the dataset.\", \"Beginning to fit featurizers and featurize the dataset.\", \"Completed fit featurizers and featurizing the dataset.\", \"Performing class balancing sweeping\", \"Generating individually featurized CV splits.\", \"Beginning model selection.\"]}]}], \"run_logs\": \"Your job is submitted in Azure cloud and we are monitoring to get logs...\", \"graph\": {}, \"widget_settings\": {\"childWidgetDisplay\": \"popup\", \"send_telemetry\": false, \"log_level\": \"INFO\", \"sdk_version\": \"1.6.0\"}, \"loading\": false}"
     },
     "metadata": {},
     "output_type": "display_data"
    },
    {
     "name": "stdout",
     "output_type": "stream",
     "text": [
      "\n",
      "Current status: DatasetBalancing. Performing class balancing sweeping\n",
      "Current status: DatasetCrossValidationSplit. Generating individually featurized CV splits.\n",
      "Current status: ModelSelection. Beginning model selection.\n",
      "\n",
      "****************************************************************************************************\n",
      "DATA GUARDRAILS: \n",
      "\n",
      "TYPE:         Class balancing detection\n",
      "STATUS:       ALERTED\n",
      "DESCRIPTION:  To decrease model bias, please cancel the current run and fix balancing problem.\n",
      "              Learn more about imbalanced data: https://aka.ms/AutomatedMLImbalancedData\n",
      "DETAILS:      Imbalanced data can lead to a falsely perceived positive effect of a model's accuracy because the input data has bias towards one class.\n",
      "+---------------------------------+---------------------------------+--------------------------------------+\n",
      "|Size of the smallest class       |Name/Label of the smallest class |Number of samples in the training data|\n",
      "+=================================+=================================+======================================+\n",
      "|4                                |9                                |25009                                 |\n",
      "+---------------------------------+---------------------------------+--------------------------------------+\n",
      "\n",
      "TYPE:         Missing feature values imputation\n",
      "STATUS:       PASSED\n",
      "DESCRIPTION:  No feature missing values were detected in the training data.\n",
      "              Learn more about missing value imputation: https://aka.ms/AutomatedMLFeaturization\n",
      "\n",
      "TYPE:         High cardinality feature detection\n",
      "STATUS:       PASSED\n",
      "DESCRIPTION:  Your inputs were analyzed, and no high cardinality features were detected.\n",
      "              Learn more about high cardinality feature handling: https://aka.ms/AutomatedMLFeaturization\n",
      "\n",
      "****************************************************************************************************\n",
      "\n",
      "****************************************************************************************************\n",
      "ITERATION: The iteration being evaluated.\n",
      "PIPELINE: A summary description of the pipeline being evaluated.\n",
      "DURATION: Time taken for the current iteration.\n",
      "METRIC: The result of computing score on the fitted pipeline.\n",
      "BEST: The best observed score thus far.\n",
      "****************************************************************************************************\n",
      "\n",
      " ITERATION   PIPELINE                                       DURATION      METRIC      BEST\n",
      "         1   MaxAbsScaler XGBoostClassifier                 0:02:21       0.6869    0.6869\n",
      "         2                                                  0:00:01          nan    0.6869\n",
      "         3                                                  0:00:01          nan    0.6869\n",
      "         4                                                  0:00:01          nan    0.6869\n",
      "         0   MaxAbsScaler LightGBM                          0:02:57       0.8048    0.8048\n",
      "         6                                                  0:00:01          nan    0.8048\n",
      "         5                                                  0:00:01          nan    0.8048\n",
      "         8                                                  0:00:02          nan    0.8048\n",
      "         7                                                  0:00:01          nan    0.8048\n",
      "         9                                                  0:00:00          nan    0.8048\n",
      "        10                                                  0:00:01          nan    0.8048\n",
      "        12                                                  0:00:00          nan    0.8048\n",
      "        11                                                  0:00:01          nan    0.8048\n",
      "        14                                                  0:00:01          nan    0.8048\n",
      "        13                                                  0:00:00          nan    0.8048\n",
      "        16                                                  0:00:02          nan    0.8048\n",
      "        15                                                  0:00:00          nan    0.8048\n",
      "        18                                                  0:00:01          nan    0.8048\n",
      "        17                                                  0:00:00          nan    0.8048\n",
      "        20                                                  0:00:01          nan    0.8048\n",
      "        19                                                  0:00:00          nan    0.8048\n",
      "        22                                                  0:00:01          nan    0.8048\n",
      "        21                                                  0:00:01          nan    0.8048\n",
      "        24                                                  0:00:01          nan    0.8048\n",
      "        23                                                  0:00:01          nan    0.8048\n",
      "        26                                                  0:00:00          nan    0.8048\n",
      "        25                                                  0:00:00          nan    0.8048\n",
      "        28                                                  0:00:00          nan    0.8048\n",
      "        27                                                  0:00:00          nan    0.8048\n",
      "        30                                                  0:00:01          nan    0.8048\n",
      "        29                                                  0:00:00          nan    0.8048\n",
      "        32                                                  0:00:00          nan    0.8048\n",
      "        31                                                  0:00:00          nan    0.8048\n"
     ]
    },
    {
     "data": {
      "text/plain": [
       "{'runId': 'AutoML_09cb4d47-dda3-4804-b9c6-5dbbad687dbc',\n",
       " 'target': 'pc3',\n",
       " 'status': 'Completed',\n",
       " 'startTimeUtc': '2020-06-09T04:00:27.795411Z',\n",
       " 'endTimeUtc': '2020-06-09T04:06:49.374354Z',\n",
       " 'properties': {'num_iterations': '1000',\n",
       "  'training_type': 'TrainFull',\n",
       "  'acquisition_function': 'EI',\n",
       "  'primary_metric': 'accuracy',\n",
       "  'train_split': '0',\n",
       "  'acquisition_parameter': '0',\n",
       "  'num_cross_validation': '5',\n",
       "  'target': 'pc3',\n",
       "  'RawAMLSettingsString': \"{'name': 'PokerHand_Classification_AutoML', 'path': None, 'subscription_id': 'd8610c93-6c20-40ef-8ce5-281bf8b7f1d0', 'resource_group': 'erickfis-ml-rg', 'workspace_name': 'poker-ws', 'region': 'brazilsouth', 'compute_target': 'pc3', 'spark_service': None, 'azure_service': 'remote', '_local_managed_run_id': None, 'iterations': 1000, 'primary_metric': 'accuracy', 'task_type': 'classification', 'data_script': None, 'validation_size': 0.0, 'n_cross_validations': 5, 'y_min': None, 'y_max': None, 'num_classes': None, 'featurization': 'auto', '_ignore_package_version_incompatibilities': False, 'lag_length': 0, 'is_timeseries': False, 'max_cores_per_iteration': -1, 'max_concurrent_iterations': 2, 'iteration_timeout_minutes': None, 'mem_in_mb': None, 'enforce_time_on_windows': True, 'experiment_timeout_minutes': 240, 'experiment_exit_score': None, 'whitelist_models': None, 'blacklist_algos': None, 'supported_models': ['SGD', 'DecisionTree', 'SVM', 'BernoulliNaiveBayes', 'KNN', 'LogisticRegression', 'RandomForest', 'TensorFlowDNN', 'AveragedPerceptronClassifier', 'LightGBM', 'XGBoostClassifier', 'GradientBoosting', 'TensorFlowLinearClassifier', 'ExtremeRandomTrees', 'LinearSVM', 'MultinomialNaiveBayes'], 'auto_blacklist': True, 'blacklist_samples_reached': False, 'exclude_nan_labels': True, 'verbosity': 20, 'debug_log': 'azureml_automl.log', 'show_warnings': False, 'model_explainability': True, 'service_url': None, 'sdk_url': None, 'sdk_packages': None, 'enable_onnx_compatible_models': False, 'enable_split_onnx_featurizer_estimator_models': False, 'vm_type': 'STANDARD_DS3_V2', 'telemetry_verbosity': 20, 'send_telemetry': True, 'enable_dnn': False, 'force_text_dnn': False, 'enable_feature_sweeping': True, 'enable_early_stopping': True, 'early_stopping_n_iters': 10, 'metrics': None, 'enable_ensembling': True, 'enable_stack_ensembling': True, 'ensemble_iterations': 15, 'enable_tf': False, 'enable_cache': True, 'enable_subsampling': False, 'subsample_seed': None, 'enable_nimbusml': False, 'enable_streaming': False, 'force_streaming': False, 'track_child_runs': True, 'label_column_name': 'class', 'weight_column_name': None, 'cv_split_column_names': None, 'cost_mode': 1, 'metric_operation': 'maximize', 'preprocess': True, 'scenario': 'SDK-Compatible'}\",\n",
       "  'AMLSettingsJsonString': '{\"name\": \"PokerHand_Classification_AutoML\", \"path\": null, \"subscription_id\": \"d8610c93-6c20-40ef-8ce5-281bf8b7f1d0\", \"resource_group\": \"erickfis-ml-rg\", \"workspace_name\": \"poker-ws\", \"region\": \"brazilsouth\", \"compute_target\": \"pc3\", \"spark_service\": null, \"azure_service\": \"remote\", \"_local_managed_run_id\": null, \"iterations\": 1000, \"primary_metric\": \"accuracy\", \"task_type\": \"classification\", \"data_script\": null, \"validation_size\": 0.0, \"n_cross_validations\": 5, \"y_min\": null, \"y_max\": null, \"num_classes\": null, \"featurization\": \"auto\", \"_ignore_package_version_incompatibilities\": false, \"lag_length\": 0, \"is_timeseries\": false, \"max_cores_per_iteration\": -1, \"max_concurrent_iterations\": 2, \"iteration_timeout_minutes\": null, \"mem_in_mb\": null, \"enforce_time_on_windows\": true, \"experiment_timeout_minutes\": 240, \"experiment_exit_score\": null, \"whitelist_models\": null, \"blacklist_algos\": null, \"supported_models\": [\"SGD\", \"DecisionTree\", \"SVM\", \"BernoulliNaiveBayes\", \"KNN\", \"LogisticRegression\", \"RandomForest\", \"TensorFlowDNN\", \"AveragedPerceptronClassifier\", \"LightGBM\", \"XGBoostClassifier\", \"GradientBoosting\", \"TensorFlowLinearClassifier\", \"ExtremeRandomTrees\", \"LinearSVM\", \"MultinomialNaiveBayes\"], \"auto_blacklist\": true, \"blacklist_samples_reached\": false, \"exclude_nan_labels\": true, \"verbosity\": 20, \"debug_log\": \"azureml_automl.log\", \"show_warnings\": false, \"model_explainability\": true, \"service_url\": null, \"sdk_url\": null, \"sdk_packages\": null, \"enable_onnx_compatible_models\": false, \"enable_split_onnx_featurizer_estimator_models\": false, \"vm_type\": \"STANDARD_DS3_V2\", \"telemetry_verbosity\": 20, \"send_telemetry\": true, \"enable_dnn\": false, \"force_text_dnn\": false, \"enable_feature_sweeping\": true, \"enable_early_stopping\": true, \"early_stopping_n_iters\": 10, \"metrics\": null, \"enable_ensembling\": true, \"enable_stack_ensembling\": true, \"ensemble_iterations\": 15, \"enable_tf\": false, \"enable_cache\": true, \"enable_subsampling\": false, \"subsample_seed\": null, \"enable_nimbusml\": false, \"enable_streaming\": false, \"force_streaming\": false, \"track_child_runs\": true, \"label_column_name\": \"class\", \"weight_column_name\": null, \"cv_split_column_names\": null, \"cost_mode\": 1, \"metric_operation\": \"maximize\", \"preprocess\": true, \"scenario\": \"SDK-Compatible\"}',\n",
       "  'DataPrepJsonString': '{\\\\\"training_data\\\\\": \\\\\"{\\\\\\\\\\\\\"blocks\\\\\\\\\\\\\": [{\\\\\\\\\\\\\"id\\\\\\\\\\\\\": \\\\\\\\\\\\\"80587e9e-f525-478b-b839-99750da184f8\\\\\\\\\\\\\", \\\\\\\\\\\\\"type\\\\\\\\\\\\\": \\\\\\\\\\\\\"Microsoft.DPrep.GetDatastoreFilesBlock\\\\\\\\\\\\\", \\\\\\\\\\\\\"arguments\\\\\\\\\\\\\": {\\\\\\\\\\\\\"datastores\\\\\\\\\\\\\": [{\\\\\\\\\\\\\"datastoreName\\\\\\\\\\\\\": \\\\\\\\\\\\\"workspaceblobstore\\\\\\\\\\\\\", \\\\\\\\\\\\\"path\\\\\\\\\\\\\": \\\\\\\\\\\\\"poker_data/*.csv\\\\\\\\\\\\\", \\\\\\\\\\\\\"resourceGroup\\\\\\\\\\\\\": \\\\\\\\\\\\\"erickfis-ml-rg\\\\\\\\\\\\\", \\\\\\\\\\\\\"subscription\\\\\\\\\\\\\": \\\\\\\\\\\\\"d8610c93-6c20-40ef-8ce5-281bf8b7f1d0\\\\\\\\\\\\\", \\\\\\\\\\\\\"workspaceName\\\\\\\\\\\\\": \\\\\\\\\\\\\"poker-ws\\\\\\\\\\\\\"}]}, \\\\\\\\\\\\\"localData\\\\\\\\\\\\\": {}, \\\\\\\\\\\\\"isEnabled\\\\\\\\\\\\\": true, \\\\\\\\\\\\\"name\\\\\\\\\\\\\": null, \\\\\\\\\\\\\"annotation\\\\\\\\\\\\\": null}, {\\\\\\\\\\\\\"id\\\\\\\\\\\\\": \\\\\\\\\\\\\"c260bd63-2095-4c3e-974f-6dcab4550a29\\\\\\\\\\\\\", \\\\\\\\\\\\\"type\\\\\\\\\\\\\": \\\\\\\\\\\\\"Microsoft.DPrep.ParseDelimitedBlock\\\\\\\\\\\\\", \\\\\\\\\\\\\"arguments\\\\\\\\\\\\\": {\\\\\\\\\\\\\"columnHeadersMode\\\\\\\\\\\\\": 3, \\\\\\\\\\\\\"fileEncoding\\\\\\\\\\\\\": 0, \\\\\\\\\\\\\"handleQuotedLineBreaks\\\\\\\\\\\\\": false, \\\\\\\\\\\\\"preview\\\\\\\\\\\\\": false, \\\\\\\\\\\\\"separator\\\\\\\\\\\\\": \\\\\\\\\\\\\",\\\\\\\\\\\\\", \\\\\\\\\\\\\"skipRows\\\\\\\\\\\\\": 0, \\\\\\\\\\\\\"skipRowsMode\\\\\\\\\\\\\": 0}, \\\\\\\\\\\\\"localData\\\\\\\\\\\\\": {}, \\\\\\\\\\\\\"isEnabled\\\\\\\\\\\\\": true, \\\\\\\\\\\\\"name\\\\\\\\\\\\\": null, \\\\\\\\\\\\\"annotation\\\\\\\\\\\\\": null}, {\\\\\\\\\\\\\"id\\\\\\\\\\\\\": \\\\\\\\\\\\\"55b29472-2a53-4394-8caa-235a62323cfc\\\\\\\\\\\\\", \\\\\\\\\\\\\"type\\\\\\\\\\\\\": \\\\\\\\\\\\\"Microsoft.DPrep.DropColumnsBlock\\\\\\\\\\\\\", \\\\\\\\\\\\\"arguments\\\\\\\\\\\\\": {\\\\\\\\\\\\\"columns\\\\\\\\\\\\\": {\\\\\\\\\\\\\"type\\\\\\\\\\\\\": 0, \\\\\\\\\\\\\"details\\\\\\\\\\\\\": {\\\\\\\\\\\\\"selectedColumns\\\\\\\\\\\\\": [\\\\\\\\\\\\\"Path\\\\\\\\\\\\\"]}}}, \\\\\\\\\\\\\"localData\\\\\\\\\\\\\": {}, \\\\\\\\\\\\\"isEnabled\\\\\\\\\\\\\": true, \\\\\\\\\\\\\"name\\\\\\\\\\\\\": null, \\\\\\\\\\\\\"annotation\\\\\\\\\\\\\": null}, {\\\\\\\\\\\\\"id\\\\\\\\\\\\\": \\\\\\\\\\\\\"1fad5217-95b8-4316-976a-cca7c66959ca\\\\\\\\\\\\\", \\\\\\\\\\\\\"type\\\\\\\\\\\\\": \\\\\\\\\\\\\"Microsoft.DPrep.SetColumnTypesBlock\\\\\\\\\\\\\", \\\\\\\\\\\\\"arguments\\\\\\\\\\\\\": {\\\\\\\\\\\\\"columnConversion\\\\\\\\\\\\\": [{\\\\\\\\\\\\\"column\\\\\\\\\\\\\": {\\\\\\\\\\\\\"type\\\\\\\\\\\\\": 2, \\\\\\\\\\\\\"details\\\\\\\\\\\\\": {\\\\\\\\\\\\\"selectedColumn\\\\\\\\\\\\\": \\\\\\\\\\\\\"Rank_1\\\\\\\\\\\\\"}}, \\\\\\\\\\\\\"typeProperty\\\\\\\\\\\\\": 2}, {\\\\\\\\\\\\\"column\\\\\\\\\\\\\": {\\\\\\\\\\\\\"type\\\\\\\\\\\\\": 2, \\\\\\\\\\\\\"details\\\\\\\\\\\\\": {\\\\\\\\\\\\\"selectedColumn\\\\\\\\\\\\\": \\\\\\\\\\\\\"Rank_2\\\\\\\\\\\\\"}}, \\\\\\\\\\\\\"typeProperty\\\\\\\\\\\\\": 2}, {\\\\\\\\\\\\\"column\\\\\\\\\\\\\": {\\\\\\\\\\\\\"type\\\\\\\\\\\\\": 2, \\\\\\\\\\\\\"details\\\\\\\\\\\\\": {\\\\\\\\\\\\\"selectedColumn\\\\\\\\\\\\\": \\\\\\\\\\\\\"Rank_3\\\\\\\\\\\\\"}}, \\\\\\\\\\\\\"typeProperty\\\\\\\\\\\\\": 2}, {\\\\\\\\\\\\\"column\\\\\\\\\\\\\": {\\\\\\\\\\\\\"type\\\\\\\\\\\\\": 2, \\\\\\\\\\\\\"details\\\\\\\\\\\\\": {\\\\\\\\\\\\\"selectedColumn\\\\\\\\\\\\\": \\\\\\\\\\\\\"Rank_4\\\\\\\\\\\\\"}}, \\\\\\\\\\\\\"typeProperty\\\\\\\\\\\\\": 2}, {\\\\\\\\\\\\\"column\\\\\\\\\\\\\": {\\\\\\\\\\\\\"type\\\\\\\\\\\\\": 2, \\\\\\\\\\\\\"details\\\\\\\\\\\\\": {\\\\\\\\\\\\\"selectedColumn\\\\\\\\\\\\\": \\\\\\\\\\\\\"Rank_5\\\\\\\\\\\\\"}}, \\\\\\\\\\\\\"typeProperty\\\\\\\\\\\\\": 2}, {\\\\\\\\\\\\\"column\\\\\\\\\\\\\": {\\\\\\\\\\\\\"type\\\\\\\\\\\\\": 2, \\\\\\\\\\\\\"details\\\\\\\\\\\\\": {\\\\\\\\\\\\\"selectedColumn\\\\\\\\\\\\\": \\\\\\\\\\\\\"class\\\\\\\\\\\\\"}}, \\\\\\\\\\\\\"typeProperty\\\\\\\\\\\\\": 2}, {\\\\\\\\\\\\\"column\\\\\\\\\\\\\": {\\\\\\\\\\\\\"type\\\\\\\\\\\\\": 2, \\\\\\\\\\\\\"details\\\\\\\\\\\\\": {\\\\\\\\\\\\\"selectedColumn\\\\\\\\\\\\\": \\\\\\\\\\\\\"Suit_1_2\\\\\\\\\\\\\"}}, \\\\\\\\\\\\\"typeProperty\\\\\\\\\\\\\": 2}, {\\\\\\\\\\\\\"column\\\\\\\\\\\\\": {\\\\\\\\\\\\\"type\\\\\\\\\\\\\": 2, \\\\\\\\\\\\\"details\\\\\\\\\\\\\": {\\\\\\\\\\\\\"selectedColumn\\\\\\\\\\\\\": \\\\\\\\\\\\\"Suit_1_3\\\\\\\\\\\\\"}}, \\\\\\\\\\\\\"typeProperty\\\\\\\\\\\\\": 2}, {\\\\\\\\\\\\\"column\\\\\\\\\\\\\": {\\\\\\\\\\\\\"type\\\\\\\\\\\\\": 2, \\\\\\\\\\\\\"details\\\\\\\\\\\\\": {\\\\\\\\\\\\\"selectedColumn\\\\\\\\\\\\\": \\\\\\\\\\\\\"Suit_1_4\\\\\\\\\\\\\"}}, \\\\\\\\\\\\\"typeProperty\\\\\\\\\\\\\": 2}, {\\\\\\\\\\\\\"column\\\\\\\\\\\\\": {\\\\\\\\\\\\\"type\\\\\\\\\\\\\": 2, \\\\\\\\\\\\\"details\\\\\\\\\\\\\": {\\\\\\\\\\\\\"selectedColumn\\\\\\\\\\\\\": \\\\\\\\\\\\\"Suit_2_2\\\\\\\\\\\\\"}}, \\\\\\\\\\\\\"typeProperty\\\\\\\\\\\\\": 2}, {\\\\\\\\\\\\\"column\\\\\\\\\\\\\": {\\\\\\\\\\\\\"type\\\\\\\\\\\\\": 2, \\\\\\\\\\\\\"details\\\\\\\\\\\\\": {\\\\\\\\\\\\\"selectedColumn\\\\\\\\\\\\\": \\\\\\\\\\\\\"Suit_2_3\\\\\\\\\\\\\"}}, \\\\\\\\\\\\\"typeProperty\\\\\\\\\\\\\": 2}, {\\\\\\\\\\\\\"column\\\\\\\\\\\\\": {\\\\\\\\\\\\\"type\\\\\\\\\\\\\": 2, \\\\\\\\\\\\\"details\\\\\\\\\\\\\": {\\\\\\\\\\\\\"selectedColumn\\\\\\\\\\\\\": \\\\\\\\\\\\\"Suit_2_4\\\\\\\\\\\\\"}}, \\\\\\\\\\\\\"typeProperty\\\\\\\\\\\\\": 2}, {\\\\\\\\\\\\\"column\\\\\\\\\\\\\": {\\\\\\\\\\\\\"type\\\\\\\\\\\\\": 2, \\\\\\\\\\\\\"details\\\\\\\\\\\\\": {\\\\\\\\\\\\\"selectedColumn\\\\\\\\\\\\\": \\\\\\\\\\\\\"Suit_3_2\\\\\\\\\\\\\"}}, \\\\\\\\\\\\\"typeProperty\\\\\\\\\\\\\": 2}, {\\\\\\\\\\\\\"column\\\\\\\\\\\\\": {\\\\\\\\\\\\\"type\\\\\\\\\\\\\": 2, \\\\\\\\\\\\\"details\\\\\\\\\\\\\": {\\\\\\\\\\\\\"selectedColumn\\\\\\\\\\\\\": \\\\\\\\\\\\\"Suit_3_3\\\\\\\\\\\\\"}}, \\\\\\\\\\\\\"typeProperty\\\\\\\\\\\\\": 2}, {\\\\\\\\\\\\\"column\\\\\\\\\\\\\": {\\\\\\\\\\\\\"type\\\\\\\\\\\\\": 2, \\\\\\\\\\\\\"details\\\\\\\\\\\\\": {\\\\\\\\\\\\\"selectedColumn\\\\\\\\\\\\\": \\\\\\\\\\\\\"Suit_3_4\\\\\\\\\\\\\"}}, \\\\\\\\\\\\\"typeProperty\\\\\\\\\\\\\": 2}, {\\\\\\\\\\\\\"column\\\\\\\\\\\\\": {\\\\\\\\\\\\\"type\\\\\\\\\\\\\": 2, \\\\\\\\\\\\\"details\\\\\\\\\\\\\": {\\\\\\\\\\\\\"selectedColumn\\\\\\\\\\\\\": \\\\\\\\\\\\\"Suit_4_2\\\\\\\\\\\\\"}}, \\\\\\\\\\\\\"typeProperty\\\\\\\\\\\\\": 2}, {\\\\\\\\\\\\\"column\\\\\\\\\\\\\": {\\\\\\\\\\\\\"type\\\\\\\\\\\\\": 2, \\\\\\\\\\\\\"details\\\\\\\\\\\\\": {\\\\\\\\\\\\\"selectedColumn\\\\\\\\\\\\\": \\\\\\\\\\\\\"Suit_4_3\\\\\\\\\\\\\"}}, \\\\\\\\\\\\\"typeProperty\\\\\\\\\\\\\": 2}, {\\\\\\\\\\\\\"column\\\\\\\\\\\\\": {\\\\\\\\\\\\\"type\\\\\\\\\\\\\": 2, \\\\\\\\\\\\\"details\\\\\\\\\\\\\": {\\\\\\\\\\\\\"selectedColumn\\\\\\\\\\\\\": \\\\\\\\\\\\\"Suit_4_4\\\\\\\\\\\\\"}}, \\\\\\\\\\\\\"typeProperty\\\\\\\\\\\\\": 2}, {\\\\\\\\\\\\\"column\\\\\\\\\\\\\": {\\\\\\\\\\\\\"type\\\\\\\\\\\\\": 2, \\\\\\\\\\\\\"details\\\\\\\\\\\\\": {\\\\\\\\\\\\\"selectedColumn\\\\\\\\\\\\\": \\\\\\\\\\\\\"Suit_5_2\\\\\\\\\\\\\"}}, \\\\\\\\\\\\\"typeProperty\\\\\\\\\\\\\": 2}, {\\\\\\\\\\\\\"column\\\\\\\\\\\\\": {\\\\\\\\\\\\\"type\\\\\\\\\\\\\": 2, \\\\\\\\\\\\\"details\\\\\\\\\\\\\": {\\\\\\\\\\\\\"selectedColumn\\\\\\\\\\\\\": \\\\\\\\\\\\\"Suit_5_3\\\\\\\\\\\\\"}}, \\\\\\\\\\\\\"typeProperty\\\\\\\\\\\\\": 2}, {\\\\\\\\\\\\\"column\\\\\\\\\\\\\": {\\\\\\\\\\\\\"type\\\\\\\\\\\\\": 2, \\\\\\\\\\\\\"details\\\\\\\\\\\\\": {\\\\\\\\\\\\\"selectedColumn\\\\\\\\\\\\\": \\\\\\\\\\\\\"Suit_5_4\\\\\\\\\\\\\"}}, \\\\\\\\\\\\\"typeProperty\\\\\\\\\\\\\": 2}]}, \\\\\\\\\\\\\"localData\\\\\\\\\\\\\": {}, \\\\\\\\\\\\\"isEnabled\\\\\\\\\\\\\": true, \\\\\\\\\\\\\"name\\\\\\\\\\\\\": null, \\\\\\\\\\\\\"annotation\\\\\\\\\\\\\": null}], \\\\\\\\\\\\\"inspectors\\\\\\\\\\\\\": [], \\\\\\\\\\\\\"meta\\\\\\\\\\\\\": {\\\\\\\\\\\\\"savedDatasetId\\\\\\\\\\\\\": \\\\\\\\\\\\\"f2876c22-d6d2-402e-8eb4-07edf3816a20\\\\\\\\\\\\\", \\\\\\\\\\\\\"datasetType\\\\\\\\\\\\\": \\\\\\\\\\\\\"tabular\\\\\\\\\\\\\", \\\\\\\\\\\\\"subscriptionId\\\\\\\\\\\\\": \\\\\\\\\\\\\"d8610c93-6c20-40ef-8ce5-281bf8b7f1d0\\\\\\\\\\\\\", \\\\\\\\\\\\\"workspaceId\\\\\\\\\\\\\": \\\\\\\\\\\\\"a355e424-19e0-41fb-a4a1-ce12801f1761\\\\\\\\\\\\\", \\\\\\\\\\\\\"workspaceLocation\\\\\\\\\\\\\": \\\\\\\\\\\\\"brazilsouth\\\\\\\\\\\\\"}}\\\\\", \\\\\"activities\\\\\": 0}',\n",
       "  'EnableSubsampling': 'False',\n",
       "  'runTemplate': 'AutoML',\n",
       "  'azureml.runsource': 'automl',\n",
       "  'display_task_type': 'classification',\n",
       "  'dependencies_versions': '{\"azureml-widgets\": \"1.6.0\", \"azureml-train\": \"1.6.0\", \"azureml-train-restclients-hyperdrive\": \"1.6.0\", \"azureml-train-core\": \"1.6.0.post1\", \"azureml-train-automl\": \"1.6.0\", \"azureml-train-automl-runtime\": \"1.6.0\", \"azureml-train-automl-client\": \"1.6.0.post1\", \"azureml-telemetry\": \"1.6.0\", \"azureml-sdk\": \"1.6.0\", \"azureml-pipeline\": \"1.6.0\", \"azureml-pipeline-steps\": \"1.6.0\", \"azureml-pipeline-core\": \"1.6.0\", \"azureml-model-management-sdk\": \"1.0.1b6.post1\", \"azureml-interpret\": \"1.6.0\", \"azureml-explain-model\": \"1.6.0\", \"azureml-defaults\": \"1.6.0\", \"azureml-dataprep\": \"1.6.3\", \"azureml-dataprep-native\": \"14.2.0\", \"azureml-core\": \"1.6.0.post1\", \"azureml-contrib-notebook\": \"1.6.0\", \"azureml-automl-runtime\": \"1.6.0.post1\", \"azureml-automl-core\": \"1.6.0\"}',\n",
       "  'ClientSdkVersion': '1.6.0',\n",
       "  'ClientType': 'SDK',\n",
       "  'environment_cpu_name': 'AzureML-AutoML',\n",
       "  'environment_cpu_version': '14',\n",
       "  'environment_gpu_name': 'AzureML-AutoML-GPU',\n",
       "  'environment_gpu_version': '8',\n",
       "  'root_attribution': 'AutoML',\n",
       "  'attribution': 'AutoML',\n",
       "  'CancelUri': 'https://brazilsouth.experiments.azureml.net/jasmine/v1.0/subscriptions/d8610c93-6c20-40ef-8ce5-281bf8b7f1d0/resourceGroups/erickfis-ml-rg/providers/Microsoft.MachineLearningServices/workspaces/poker-ws/experiment/PokerHand_Classification_AutoML/cancel/AutoML_09cb4d47-dda3-4804-b9c6-5dbbad687dbc',\n",
       "  'Orchestrator': 'AutoML',\n",
       "  'azureml.git.repository_uri': 'https://github.com/erickfis/azureStudy.git',\n",
       "  'mlflow.source.git.repoURL': 'https://github.com/erickfis/azureStudy.git',\n",
       "  'azureml.git.branch': 'master',\n",
       "  'mlflow.source.git.branch': 'master',\n",
       "  'azureml.git.commit': 'dec6cbc2fdaaff3df750010c9cd797eb4f4b5ad8',\n",
       "  'mlflow.source.git.commit': 'dec6cbc2fdaaff3df750010c9cd797eb4f4b5ad8',\n",
       "  'azureml.git.dirty': 'True',\n",
       "  'SetupRunId': 'AutoML_09cb4d47-dda3-4804-b9c6-5dbbad687dbc_setup',\n",
       "  'SetupRunContainerId': 'dcid.AutoML_09cb4d47-dda3-4804-b9c6-5dbbad687dbc_setup',\n",
       "  'ProblemInfoJsonString': '{\"dataset_num_categorical\": 0, \"is_sparse\": true, \"subsampling\": false, \"dataset_classes\": 10, \"dataset_features\": 80, \"dataset_samples\": 25009, \"single_frequency_class_detected\": false}',\n",
       "  'ModelExplainRunId': 'AutoML_09cb4d47-dda3-4804-b9c6-5dbbad687dbc_ModelExplain'},\n",
       " 'inputDatasets': [{'dataset': {'id': 'f2876c22-d6d2-402e-8eb4-07edf3816a20'}, 'consumptionDetails': {'type': 'RunInput', 'inputName': 'training_data', 'mechanism': 'Direct'}}],\n",
       " 'logFiles': {}}"
      ]
     },
     "execution_count": 6,
     "metadata": {},
     "output_type": "execute_result"
    }
   ],
   "source": [
    "print('Submitting Auto ML experiment...')\n",
    "automl_experiment = Experiment(ws, 'PokerHand_Classification_AutoML')\n",
    "automl_run = automl_experiment.submit(automl_config)\n",
    "RunDetails(automl_run).show()\n",
    "automl_run.wait_for_completion(show_output=True)"
   ]
  },
  {
   "cell_type": "code",
   "execution_count": 33,
   "metadata": {},
   "outputs": [],
   "source": [
    "# automl_run.fail()"
   ]
  },
  {
   "cell_type": "markdown",
   "metadata": {},
   "source": [
    "## Get metrics & best model"
   ]
  },
  {
   "cell_type": "code",
   "execution_count": 7,
   "metadata": {},
   "outputs": [
    {
     "name": "stdout",
     "output_type": "stream",
     "text": [
      "accuracy_table aml://artifactId/ExperimentRun/dcid.AutoML_09cb4d47-dda3-4804-b9c6-5dbbad687dbc_0/accuracy_table\n",
      "confusion_matrix aml://artifactId/ExperimentRun/dcid.AutoML_09cb4d47-dda3-4804-b9c6-5dbbad687dbc_0/confusion_matrix\n",
      "AUC_micro 0.9676023891417869\n",
      "AUC_macro 0.7232309227645399\n",
      "f1_score_micro 0.8047904453495546\n",
      "f1_score_macro 0.17644670642183505\n",
      "weighted_accuracy 0.8741160102640702\n",
      "AUC_weighted 0.8987243934131314\n",
      "average_precision_score_micro 0.7588379445487563\n",
      "f1_score_weighted 0.7748766745455948\n",
      "precision_score_macro 0.2177417900282846\n",
      "log_loss 0.9668714681369996\n",
      "precision_score_micro 0.8047904453495546\n",
      "average_precision_score_macro 0.22411431548808852\n",
      "average_precision_score_weighted 0.7787693352205851\n",
      "norm_macro_recall 0.1024956146344643\n",
      "matthews_correlation 0.6466066837220275\n",
      "precision_score_weighted 0.7684853158155894\n",
      "balanced_accuracy 0.18808625663485296\n",
      "recall_score_weighted 0.8047904453495546\n",
      "recall_score_micro 0.8047904453495546\n",
      "recall_score_macro 0.18808625663485296\n",
      "accuracy 0.8047904453495546\n"
     ]
    }
   ],
   "source": [
    "best_run, fitted_model = automl_run.get_output()\n",
    "best_run_metrics = best_run.get_metrics()\n",
    "for metric_name in best_run_metrics:\n",
    "    metric = best_run_metrics[metric_name]\n",
    "    print(metric_name, metric)"
   ]
  },
  {
   "cell_type": "markdown",
   "metadata": {},
   "source": [
    "## Check Preprocessing steps\n",
    "\n"
   ]
  },
  {
   "cell_type": "code",
   "execution_count": 8,
   "metadata": {},
   "outputs": [
    {
     "name": "stdout",
     "output_type": "stream",
     "text": [
      "datatransformer\n",
      "MaxAbsScaler\n",
      "LightGBMClassifier\n"
     ]
    }
   ],
   "source": [
    "for step in fitted_model.named_steps:\n",
    "    print(step)"
   ]
  },
  {
   "cell_type": "markdown",
   "metadata": {},
   "source": [
    "## Register the model\n",
    "\n",
    "\n"
   ]
  },
  {
   "cell_type": "code",
   "execution_count": 9,
   "metadata": {},
   "outputs": [
    {
     "data": {
      "text/plain": [
       "Model(workspace=Workspace.create(name='poker-ws', subscription_id='d8610c93-6c20-40ef-8ce5-281bf8b7f1d0', resource_group='erickfis-ml-rg'), name=model_automl, id=model_automl:2, version=2, tags={'Training context': 'Auto ML'}, properties={'AUC': '0.8987243934131314', 'Accuracy': '0.8047904453495546'})"
      ]
     },
     "execution_count": 9,
     "metadata": {},
     "output_type": "execute_result"
    }
   ],
   "source": [
    "best_run.register_model(\n",
    "    model_path='outputs/model.pkl',\n",
    "    model_name='model_automl',\n",
    "    tags={'Training context':'Auto ML'},\n",
    "    properties={\n",
    "        'AUC': best_run_metrics['AUC_weighted'],\n",
    "        'Accuracy': best_run_metrics['accuracy']\n",
    "        }\n",
    "    )"
   ]
  },
  {
   "cell_type": "markdown",
   "metadata": {},
   "source": [
    "## Stopping the compute target"
   ]
  },
  {
   "cell_type": "code",
   "execution_count": 10,
   "metadata": {},
   "outputs": [],
   "source": [
    "for pc_name in ws.compute_targets:\n",
    "    pc = ws.compute_targets[pc_name]\n",
    "    pc.stop()\n",
    "\n"
   ]
  },
  {
   "cell_type": "code",
   "execution_count": null,
   "metadata": {},
   "outputs": [],
   "source": []
  }
 ],
 "metadata": {
  "kernelspec": {
   "display_name": "Python 3",
   "language": "python",
   "name": "python3"
  },
  "language_info": {
   "codemirror_mode": {
    "name": "ipython",
    "version": 3
   },
   "file_extension": ".py",
   "mimetype": "text/x-python",
   "name": "python",
   "nbconvert_exporter": "python",
   "pygments_lexer": "ipython3",
   "version": "3.7.3"
  }
 },
 "nbformat": 4,
 "nbformat_minor": 4
}
