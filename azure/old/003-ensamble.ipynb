{
 "cells": [
  {
   "cell_type": "markdown",
   "metadata": {},
   "source": [
    "# Ensamble models\n",
    "\n",
    "For some strange reason, Azure ML could not complete an experimet for assessing Random Forest or Gradient Boosting classification models.\n",
    "\n",
    "Therefore, for the sake of completeness and comparisom, I decided to do the processing locally. \n",
    "\n",
    "## Importing the script\n"
   ]
  },
  {
   "cell_type": "code",
   "execution_count": 9,
   "metadata": {},
   "outputs": [],
   "source": [
    "import scripts.experiment002 as exp\n",
    "from sklearn.ensemble import RandomForestClassifier, GradientBoostingClassifier\n"
   ]
  },
  {
   "cell_type": "markdown",
   "metadata": {},
   "source": [
    "## Getting the data"
   ]
  },
  {
   "cell_type": "code",
   "execution_count": null,
   "metadata": {},
   "outputs": [],
   "source": [
    "url = 'https://archive.ics.uci.edu/ml/machine-learning-databases/poker/poker-hand-training-true.data'\n",
    "\n",
    "X_train, X_test, y_train, y_test = exp.dataset_etl(url)"
   ]
  },
  {
   "cell_type": "markdown",
   "metadata": {},
   "source": [
    "## Random Forecast Classifier"
   ]
  },
  {
   "cell_type": "code",
   "execution_count": null,
   "metadata": {},
   "outputs": [],
   "source": [
    "# Random Forest\n",
    "model = RandomForestClassifier(random_state=95276)\n",
    "model_name = 'Random Forest'\n",
    "grid_params = {\n",
    "    'max_depth': [3, 5, 10, 15, 20, None],\n",
    "    'max_features': [3, 5, 10, 15, None],\n",
    "    'min_samples_leaf': [2, 5],\n",
    "    'min_samples_split': [2, 5],\n",
    "    'class_weight': ['balanced', None],\n",
    "    'n_estimators': [500]\n",
    "    }\n",
    "\n",
    "results = exp.trainer(model, model_name, grid_params)\n",
    "print('model name:', results['model name'])\n",
    "print(f'test_score (accuracy): {results[\"test_score\"]:.4f}')\n"
   ]
  },
  {
   "cell_type": "markdown",
   "metadata": {},
   "source": [
    "## Gradient Boosting Classifier"
   ]
  },
  {
   "cell_type": "code",
   "execution_count": null,
   "metadata": {},
   "outputs": [],
   "source": [
    "model = GradientBoostingClassifier(random_state=95276)\n",
    "model_name = 'Gradient Boosting'\n",
    "grid_params = {\n",
    "    'min_samples_leaf': [1, 2, 5],\n",
    "    'min_samples_split': [2, 5],\n",
    "    'n_estimators': [1000]\n",
    "    }\n",
    "\n",
    "results = exp.trainer(model, model_name, grid_params)\n",
    "print('model name:', results['model name'])\n",
    "print(f'test_score (accuracy): {results[\"test_score\"]:.4f}')\n"
   ]
  }
 ],
 "metadata": {
  "kernelspec": {
   "display_name": "Python 3",
   "language": "python",
   "name": "python3"
  },
  "language_info": {
   "codemirror_mode": {
    "name": "ipython",
    "version": 3
   },
   "file_extension": ".py",
   "mimetype": "text/x-python",
   "name": "python",
   "nbconvert_exporter": "python",
   "pygments_lexer": "ipython3",
   "version": "3.7.3"
  }
 },
 "nbformat": 4,
 "nbformat_minor": 4
}
